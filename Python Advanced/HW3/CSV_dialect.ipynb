{
 "cells": [
  {
   "cell_type": "markdown",
   "id": "19fc7bdf",
   "metadata": {},
   "source": [
    "У Python для роботи з файлами CSV існує модуль csv, який дозволяє читати і записувати дані в форматі CSV. Один із важливих аспектів цього модуля — діалекти CSV.   \n",
    "Діалекти використовуються для налаштування правил обробки CSV-файлів (наприклад, роздільник, символи для обмеження полів і т.д.), щоб зробити роботу з різними варіантами CSV-файлів більш універсальною.\n",
    "\n",
    "## Основні поняття діалектів CSV:\n",
    "1. Що таке діалект? Діалект — це сукупність параметрів форматування, що визначають, як слід читати чи записувати CSV-файли.  \n",
    "Це дозволяє налаштувати поведінку при роботі з різними форматами CSV, які можуть використовувати різні роздільники, лапки та інші символи.\n",
    "\n",
    "2. Як створювати діалект? У Python можна зареєструвати власний діалект або використовувати вбудовані.  \n",
    "Діалекти реєструються за допомогою функції `csv.register_dialect()`.  \n",
    "Для доступу до вже зареєстрованих діалектів використовується функція `csv.get_dialect()`.\n",
    "\n",
    "## Основні параметри діалектів:\n",
    "- `delimiter`: символ, який використовується для розділення полів у рядку (наприклад, кома `,`, крапка з комою `;`, табуляція `\\t` тощо).\n",
    "- `quotechar`: символ для обмеження текстових значень, які містять роздільники або спеціальні символи (наприклад, лапки `\"`).\n",
    "- `escapechar`: символ, що використовується для екранування (втечі) спеціальних символів.\n",
    "- `doublequote`: визначає, чи слід подвоювати лапки, якщо вони зустрічаються в тексті.\n",
    "- `lineterminator`: символ або рядок, який використовується для розділення рядків у файлі.\n",
    "- `quoting`: визначає, як обробляти лапки для значень полів (можливі значення — константи: `csv.QUOTE_MINIMAL`, `csv.QUOTE_ALL`, `csv.QUOTE_NONNUMERIC`, `csv.QUOTE_NONE`).\n",
    "- `skipinitialspace`: якщо встановлено в `True`, буде ігнорувати пробіли після роздільника.\n",
    "\n",
    "### Приклад використання діалекту CSV:\n",
    "1. **Реєстрація діалекту**:"
   ]
  },
  {
   "cell_type": "code",
   "execution_count": null,
   "id": "2f25af49",
   "metadata": {},
   "outputs": [],
   "source": [
    "import csv\n",
    "\n",
    "# Реєструємо новий діалект\n",
    "csv.register_dialect(\n",
    "    'custom_dialect',\n",
    "    delimiter=';',           # Розділювач полів - крапка з комою\n",
    "    quotechar='\"',           # Текст обмежується подвійними лапками\n",
    "    escapechar='\\\\',         # Екрануючий символ - бекслеш\n",
    "    doublequote=True,        # Подвоювати лапки, якщо всередині тексту\n",
    "    skipinitialspace=True,   # Ігнорувати пробіли після роздільника\n",
    "    lineterminator='\\n',     # Розділювач рядків - новий рядок\n",
    "    quoting=csv.QUOTE_MINIMAL # Цитувати лише, коли необхідно\n",
    ")\n",
    "\n",
    "# Використання зареєстрованого діалекту для запису CSV\n",
    "with open('output.csv', 'w', newline='') as csvfile:\n",
    "    writer = csv.writer(csvfile, dialect='custom_dialect')\n",
    "    writer.writerow(['Name', 'Age', 'City'])\n",
    "    writer.writerow(['John Doe', '28', 'New York'])\n",
    "    writer.writerow(['Jane Smith', '34', 'San Francisco'])"
   ]
  },
  {
   "cell_type": "markdown",
   "id": "99fa98ae",
   "metadata": {},
   "source": [
    "2. **Використання стандартних діалектів**:  \n",
    "Python має вбудовані діалекти, наприклад:\n",
    "\n",
    "- `excel`: використовується для роботи з CSV-файлами, створеними в Excel. Роздільник — кома (`,`), текст обмежується лапками.\n",
    "- `excel-tab`: схожий на `excel`, але використовує табуляцію (`\\t`) як роздільник."
   ]
  },
  {
   "cell_type": "code",
   "execution_count": null,
   "id": "a645514e",
   "metadata": {},
   "outputs": [],
   "source": [
    "# Читання CSV за допомогою вбудованого діалекту \"excel\"\n",
    "with open('output.csv', newline='') as csvfile:\n",
    "    reader = csv.reader(csvfile, dialect='excel')\n",
    "    for row in reader:\n",
    "        print(row)"
   ]
  },
  {
   "cell_type": "markdown",
   "id": "e26f616a",
   "metadata": {},
   "source": [
    "3. **Пошук інформації про зареєстровані діалекти**:"
   ]
  },
  {
   "cell_type": "code",
   "execution_count": null,
   "id": "02f305cf",
   "metadata": {},
   "outputs": [],
   "source": [
    "# Вивести всі зареєстровані діалекти\n",
    "print(csv.list_dialects())\n",
    "\n",
    "# Отримати інформацію про конкретний діалект\n",
    "dialect = csv.get_dialect('custom_dialect')\n",
    "print(dialect.delimiter, dialect.quotechar)"
   ]
  },
  {
   "cell_type": "markdown",
   "id": "0c7a6af4",
   "metadata": {},
   "source": [
    "## Основні вбудовані діалекти:\n",
    "- `excel` — стандартний діалект для роботи з Excel CSV-файлами (розділювач — кома).\n",
    "- `excel-tab` — версія для файлів із роздільниками табуляції.\n",
    "- `unix` — діалект для роботи з CSV на Unix-системах (розділювач — кома, рядки завершуються символом нового рядка `\\n`).\n",
    "\n",
    "### Приклад зчитування CSV за допомогою діалекту:"
   ]
  },
  {
   "cell_type": "code",
   "execution_count": null,
   "id": "6790d6b0",
   "metadata": {},
   "outputs": [],
   "source": [
    "with open('example.csv', newline='') as csvfile:\n",
    "    reader = csv.reader(csvfile, dialect='custom_dialect')\n",
    "    for row in reader:\n",
    "        print(row)"
   ]
  },
  {
   "cell_type": "markdown",
   "id": "d9b5038d",
   "metadata": {},
   "source": [
    "### Підсумок:\n",
    "- Діалекти в Python дозволяють налаштовувати параметри читання та запису CSV-файлів.\n",
    "- Ви можете використовувати вбудовані діалекти або створювати власні.\n",
    "- Використання діалектів спрощує роботу з різними варіантами форматування CSV-файлів."
   ]
  }
 ],
 "metadata": {
  "kernelspec": {
   "display_name": "Python 3",
   "language": "python",
   "name": "python3"
  },
  "language_info": {
   "name": "python",
   "version": "3.12.4"
  }
 },
 "nbformat": 4,
 "nbformat_minor": 5
}

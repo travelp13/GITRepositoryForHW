{
 "cells": [
  {
   "cell_type": "markdown",
   "metadata": {},
   "source": [
    "\n",
    "## 1. Основні поняття HTTP-протоколу\n",
    "\n",
    "**HTTP (Hypertext Transfer Protocol)** — це протокол, який використовується для обміну даними між клієнтами (наприклад, браузерами або програмами) та веб-серверами.\n",
    "\n",
    "### Основні методи HTTP:\n",
    "- **GET**: використовується для отримання даних із сервера.\n",
    "- **POST**: використовується для відправки даних на сервер (наприклад, форми).\n",
    "- **PUT**: використовується для оновлення або заміни існуючих даних на сервері.\n",
    "- **DELETE**: використовується для видалення даних на сервері.\n",
    "- **HEAD**: подібний до GET, але повертає лише заголовки без тіла.\n",
    "\n",
    "### Структура HTTP-запиту:\n",
    "- **URL**: адреса ресурсу, до якого здійснюється запит.\n",
    "- **Метод**: тип запиту (GET, POST тощо).\n",
    "- **Заголовки (headers)**: метадані для передачі додаткової інформації (тип контенту, автентифікація тощо).\n",
    "- **Тіло (body)**: дані, які передаються з запитом (зазвичай у POST/PUT запитах).\n",
    "\n",
    "## 2. Бібліотека `urllib`\n",
    "\n",
    "**`urllib`** — це стандартна бібліотека Python для роботи з URL та HTTP-запитами.\n",
    "\n",
    "### Основні модулі `urllib`:\n",
    "- **`urllib.request`**: використовується для відправлення HTTP-запитів.\n",
    "- **`urllib.parse`**: використовується для розбору і побудови URL.\n",
    "- **`urllib.error`**: для обробки помилок, пов'язаних з HTTP.\n",
    "- **`urllib.robotparser`**: для перевірки доступу до ресурсів за допомогою файлу `robots.txt`.\n",
    "\n",
    "### Приклад використання `urllib.request` для GET-запиту:"
   ]
  },
  {
   "cell_type": "code",
   "execution_count": null,
   "metadata": {},
   "outputs": [],
   "source": [
    "import urllib.request\n",
    "\n",
    "url = 'https://api.github.com'\n",
    "\n",
    "# Відправка GET-запиту\n",
    "response = urllib.request.urlopen(url)\n",
    "\n",
    "# Читання відповіді\n",
    "data = response.read().decode('utf-8')\n",
    "\n",
    "# Виведення отриманих даних\n",
    "print(data)"
   ]
  },
  {
   "cell_type": "markdown",
   "metadata": {},
   "source": [
    "### Відправка POST-запиту з даними:"
   ]
  },
  {
   "cell_type": "code",
   "execution_count": null,
   "metadata": {},
   "outputs": [],
   "source": [
    "import urllib.parse\n",
    "import urllib.request\n",
    "\n",
    "url = 'https://httpbin.org/post'\n",
    "data = {'name': 'John', 'age': '30'}\n",
    "\n",
    "# Кодування даних\n",
    "data_encoded = urllib.parse.urlencode(data).encode('utf-8')\n",
    "\n",
    "# Відправка POST-запиту\n",
    "response = urllib.request.urlopen(url, data=data_encoded)\n",
    "\n",
    "# Читання відповіді\n",
    "print(response.read().decode('utf-8'))"
   ]
  },
  {
   "cell_type": "markdown",
   "metadata": {},
   "source": [
    "### Переваги та недоліки `urllib`:\n",
    "- **Переваги**:\n",
    "  - Входить до стандартної бібліотеки Python, не потребує встановлення.\n",
    "- **Недоліки**:\n",
    "  - Менш зручний інтерфейс у порівнянні з `requests`.\n",
    "  - Робота з сесіями та кукі складніша.\n",
    "\n",
    "## 3. Бібліотека `requests`\n",
    "\n",
    "**`requests`** — це популярна стороння бібліотека, яка спрощує роботу з HTTP-запитами у Python. Вона має простіший і більш інтуїтивний інтерфейс, ніж `urllib`.\n",
    "\n",
    "### Приклад GET-запиту з `requests`:"
   ]
  },
  {
   "cell_type": "code",
   "execution_count": null,
   "metadata": {},
   "outputs": [],
   "source": [
    "import requests\n",
    "\n",
    "url = 'https://api.github.com'\n",
    "\n",
    "# Відправка GET-запиту\n",
    "response = requests.get(url)\n",
    "\n",
    "# Отримання статусу запиту\n",
    "print(response.status_code)\n",
    "\n",
    "# Отримання тексту відповіді\n",
    "print(response.text)"
   ]
  },
  {
   "cell_type": "markdown",
   "metadata": {},
   "source": [
    "### Відправка POST-запиту з даними:"
   ]
  },
  {
   "cell_type": "code",
   "execution_count": null,
   "metadata": {},
   "outputs": [],
   "source": [
    "import requests\n",
    "\n",
    "url = 'https://httpbin.org/post'\n",
    "data = {'name': 'John', 'age': '30'}\n",
    "\n",
    "# Відправка POST-запиту з даними\n",
    "response = requests.post(url, data=data)\n",
    "\n",
    "# Виведення відповіді сервера\n",
    "print(response.text)"
   ]
  },
  {
   "cell_type": "markdown",
   "metadata": {},
   "source": [
    "### Робота з JSON-даними:"
   ]
  },
  {
   "cell_type": "code",
   "execution_count": null,
   "metadata": {},
   "outputs": [],
   "source": [
    "import requests\n",
    "\n",
    "url = 'https://jsonplaceholder.typicode.com/todos/1'\n",
    "\n",
    "# Відправка GET-запиту\n",
    "response = requests.get(url)\n",
    "\n",
    "# Отримання JSON-відповіді\n",
    "json_data = response.json()\n",
    "\n",
    "print(json_data)"
   ]
  },
  {
   "cell_type": "markdown",
   "metadata": {},
   "source": [
    "### Робота з заголовками:"
   ]
  },
  {
   "cell_type": "code",
   "execution_count": null,
   "metadata": {},
   "outputs": [],
   "source": [
    "import requests\n",
    "\n",
    "url = 'https://httpbin.org/get'\n",
    "headers = {'User-Agent': 'Mozilla/5.0'}\n",
    "\n",
    "# Відправка запиту з кастомними заголовками\n",
    "response = requests.get(url, headers=headers)\n",
    "\n",
    "print(response.text)"
   ]
  },
  {
   "cell_type": "markdown",
   "metadata": {},
   "source": [
    "### Переваги та недоліки `requests`:\n",
    "- **Переваги**:\n",
    "  - Простий і зрозумілий інтерфейс.\n",
    "  - Підтримка роботи з сесіями, кукі, автентифікацією, тайм-аутами тощо.\n",
    "- **Недоліки**:\n",
    "  - Не входить до стандартної бібліотеки, потрібно встановлювати: `pip install requests`.\n",
    "\n",
    "## 4. Висновки\n",
    "\n",
    "- **`urllib`** підходить для базових запитів та простих сценаріїв, де не потрібно багато складної взаємодії з HTTP (наприклад, робота зі сесіями, кукі тощо).\n",
    "- **`requests`** більш зручна та потужна бібліотека, яка спрощує написання HTTP-запитів і є більш інтуїтивною для складних завдань.\n",
    "\n",
    "### Рекомендації:\n",
    "Якщо вам потрібна проста бібліотека для роботи з HTTP-запитами, яка не вимагає багато ручної роботи і підтримує широкий набір функцій, **`requests`** є кращим вибором для більшості випадків.\n"
   ]
  }
 ],
 "metadata": {
  "kernelspec": {
   "display_name": "Python 3",
   "language": "python",
   "name": "python3"
  },
  "language_info": {
   "name": "python",
   "version": "3.12.4"
  }
 },
 "nbformat": 4,
 "nbformat_minor": 2
}
